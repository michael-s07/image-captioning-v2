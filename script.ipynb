{
 "cells": [
  {
   "cell_type": "code",
   "execution_count": 4,
   "id": "279b551b",
   "metadata": {},
   "outputs": [],
   "source": [
    "# libraries that will be used for the project\n",
    "import numpy as np\n",
    "import tensorflow as tf\n",
    "#import matplotlib.pyplot as plt\n",
    "\n",
    "import os\n",
    "import re\n",
    "from tensorflow import keras\n",
    "from tensorflow.keras import layers\n",
    "from tensorflow.keras.layers import TextVectorization"
   ]
  },
  {
   "cell_type": "markdown",
   "id": "dff72fef",
   "metadata": {},
   "source": [
    "## Preparing Dataset"
   ]
  },
  {
   "cell_type": "code",
   "execution_count": 5,
   "id": "b4c4d3eb",
   "metadata": {},
   "outputs": [],
   "source": [
    "def load_data(file):\n",
    "    with open(file) as cap_file:\n",
    "        caption = cap_file.readlines()\n",
    "        cap_map = {}\n",
    "        text_data = []\n",
    "        skip_img = set()\n",
    "        \n",
    "    for i in caption:\n",
    "        i = i.rstrip('\\n')\n",
    "        img, cap = line.split('\\t')\n",
    "        \n",
    "        img = img.split(\"#\")[0]\n",
    "        img = os.path.join(img_path, img.strip())\n",
    "        \n",
    "        tokens = cap.strip().split()\n",
    "        if len(token) < 5 or len(token) > 25:\n",
    "            skip_img.add(img)\n",
    "            continue\n",
    "        if img.endwith('jpg') and img not in skip_img:\n",
    "            cap =  \"<start> \" + caption.strip() + \" <end>\"\n",
    "            text_data.append(cap)\n",
    "        if img_name in caption_mapping:\n",
    "            cap_map[img].append(cap)\n",
    "        else:\n",
    "            cap_map[img] = [cap]\n",
    "            \n",
    "    for img in skip_img:\n",
    "        if img in cap_map:\n",
    "            del cap_map[img]\n",
    "        "
   ]
  },
  {
   "cell_type": "code",
   "execution_count": null,
   "id": "aee1cee0",
   "metadata": {},
   "outputs": [],
   "source": []
  }
 ],
 "metadata": {
  "kernelspec": {
   "display_name": "imgcap",
   "language": "python",
   "name": "imgcap"
  },
  "language_info": {
   "codemirror_mode": {
    "name": "ipython",
    "version": 3
   },
   "file_extension": ".py",
   "mimetype": "text/x-python",
   "name": "python",
   "nbconvert_exporter": "python",
   "pygments_lexer": "ipython3",
   "version": "3.9.2"
  }
 },
 "nbformat": 4,
 "nbformat_minor": 5
}
