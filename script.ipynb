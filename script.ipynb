{
 "cells": [
  {
   "cell_type": "code",
   "execution_count": 4,
   "id": "6b3bdf41",
   "metadata": {},
   "outputs": [],
   "source": [
    "# libraries that will be used for the project\n",
    "import numpy as np\n",
    "import tensorflow as tf\n",
    "#import matplotlib.pyplot as plt\n",
    "\n",
    "import os\n",
    "import re\n",
    "from tensorflow import keras\n",
    "from tensorflow.keras import layers\n",
    "from tensorflow.keras.layers import TextVectorization"
   ]
  },
  {
   "cell_type": "markdown",
   "id": "83489a00",
   "metadata": {},
   "source": [
    "## Preparing Dataset"
   ]
  },
  {
   "cell_type": "code",
   "execution_count": 21,
   "id": "f7e6c7d5",
   "metadata": {},
   "outputs": [],
   "source": [
    "def load_data(file):\n",
    "    with open(file) as cap_file:\n",
    "        caption = cap_file.readlines()\n",
    "        cap_map = {}\n",
    "        text_data = []\n",
    "        skip_img = set()\n",
    "        \n",
    "    for i in caption:\n",
    "        i = i.rstrip('\\n')\n",
    "        img, cap = i.split('\\t')\n",
    "        \n",
    "        img = img.split(\"#\")[0]\n",
    "        img = os.path.join(\"Flicker8k_Dataset\", img.strip())\n",
    "        \n",
    "        token = cap.strip().split()\n",
    "        if len(token) < 5 or len(token) > 25:\n",
    "            skip_img.add(img)\n",
    "            continue\n",
    "        if img.endswith('jpg') and img not in skip_img:\n",
    "            cap =  \"<start> \" + cap.strip() + \" <end>\"\n",
    "            text_data.append(cap)\n",
    "        if img in caption_mapping:\n",
    "            cap_map[img].append(cap)\n",
    "        else:\n",
    "            cap_map[img] = [cap]\n",
    "            \n",
    "    for img in skip_img:\n",
    "        if img in cap_map:\n",
    "            del cap_map[img]\n",
    "    return cap_map, text_data"
   ]
  },
  {
   "cell_type": "code",
   "execution_count": 7,
   "id": "446e9686",
   "metadata": {},
   "outputs": [],
   "source": [
    "def split_train_val(cap,train_size=0.8, shuffle = True):\n",
    "    all_img = list(cap.keys())\n",
    "    if shuffle:\n",
    "        np.random.shuffle(all_img)\n",
    "        \n",
    "    train_size = int(len(caption_data) * train_size)\n",
    "    training_data = {img_name: cap[img] for img in all_img[:train_size]}\n",
    "    validation_data = {img_name: cap[img] for img in all_img[train_size:]}\n",
    "    \n",
    "    return training_data, validation_data"
   ]
  },
  {
   "cell_type": "code",
   "execution_count": 20,
   "id": "6e4b957d",
   "metadata": {},
   "outputs": [
    {
     "ename": "NameError",
     "evalue": "name 'img_name' is not defined",
     "output_type": "error",
     "traceback": [
      "\u001b[1;31m---------------------------------------------------------------------------\u001b[0m",
      "\u001b[1;31mNameError\u001b[0m                                 Traceback (most recent call last)",
      "Input \u001b[1;32mIn [20]\u001b[0m, in \u001b[0;36m<cell line: 1>\u001b[1;34m()\u001b[0m\n\u001b[1;32m----> 1\u001b[0m cap_map, text_data \u001b[38;5;241m=\u001b[39m \u001b[43mload_data\u001b[49m\u001b[43m(\u001b[49m\u001b[38;5;124;43m\"\u001b[39;49m\u001b[38;5;124;43mFlickr8k_text/Flickr8k.token.txt\u001b[39;49m\u001b[38;5;124;43m\"\u001b[39;49m\u001b[43m)\u001b[49m\n",
      "Input \u001b[1;32mIn [19]\u001b[0m, in \u001b[0;36mload_data\u001b[1;34m(file)\u001b[0m\n\u001b[0;32m     20\u001b[0m     cap \u001b[38;5;241m=\u001b[39m  \u001b[38;5;124m\"\u001b[39m\u001b[38;5;124m<start> \u001b[39m\u001b[38;5;124m\"\u001b[39m \u001b[38;5;241m+\u001b[39m cap\u001b[38;5;241m.\u001b[39mstrip() \u001b[38;5;241m+\u001b[39m \u001b[38;5;124m\"\u001b[39m\u001b[38;5;124m <end>\u001b[39m\u001b[38;5;124m\"\u001b[39m\n\u001b[0;32m     21\u001b[0m     text_data\u001b[38;5;241m.\u001b[39mappend(cap)\n\u001b[1;32m---> 22\u001b[0m \u001b[38;5;28;01mif\u001b[39;00m \u001b[43mimg_name\u001b[49m \u001b[38;5;129;01min\u001b[39;00m caption_mapping:\n\u001b[0;32m     23\u001b[0m     cap_map[img]\u001b[38;5;241m.\u001b[39mappend(cap)\n\u001b[0;32m     24\u001b[0m \u001b[38;5;28;01melse\u001b[39;00m:\n",
      "\u001b[1;31mNameError\u001b[0m: name 'img_name' is not defined"
     ]
    }
   ],
   "source": [
    "cap_map, text_data = load_data(\"Flickr8k_text/Flickr8k.token.txt\")"
   ]
  },
  {
   "cell_type": "code",
   "execution_count": null,
   "id": "e51da9c3",
   "metadata": {},
   "outputs": [],
   "source": []
  }
 ],
 "metadata": {
  "kernelspec": {
   "display_name": "imgcap",
   "language": "python",
   "name": "imgcap"
  },
  "language_info": {
   "codemirror_mode": {
    "name": "ipython",
    "version": 3
   },
   "file_extension": ".py",
   "mimetype": "text/x-python",
   "name": "python",
   "nbconvert_exporter": "python",
   "pygments_lexer": "ipython3",
   "version": "3.9.2"
  }
 },
 "nbformat": 4,
 "nbformat_minor": 5
}
