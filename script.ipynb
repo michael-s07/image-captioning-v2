{
 "cells": [
  {
   "cell_type": "code",
   "execution_count": 4,
   "id": "bfc2af71",
   "metadata": {},
   "outputs": [],
   "source": [
    "# libraries that will be used for the project\n",
    "import numpy as np\n",
    "import tensorflow as tf\n",
    "#import matplotlib.pyplot as plt\n",
    "\n",
    "import os\n",
    "import re\n",
    "from tensorflow import keras\n",
    "from tensorflow.keras import layers\n",
    "from tensorflow.keras.layers import TextVectorization"
   ]
  },
  {
   "cell_type": "markdown",
   "id": "5b4e101d",
   "metadata": {},
   "source": [
    "## Preparing Dataset"
   ]
  },
  {
   "cell_type": "code",
   "execution_count": 23,
   "id": "149a5c4c",
   "metadata": {},
   "outputs": [],
   "source": [
    "def load_data(file):\n",
    "    with open(file) as cap_file:\n",
    "        caption = cap_file.readlines()\n",
    "        cap_map = {}\n",
    "        text_data = []\n",
    "        skip_img = set()\n",
    "        \n",
    "    for i in caption:\n",
    "        i = i.rstrip('\\n')\n",
    "        img, cap = i.split('\\t')\n",
    "        \n",
    "        img = img.split(\"#\")[0]\n",
    "        img = os.path.join(\"Flicker8k_Dataset\", img.strip())\n",
    "        \n",
    "        token = cap.strip().split()\n",
    "        if len(token) < 5 or len(token) > 25:\n",
    "            skip_img.add(img)\n",
    "            continue\n",
    "        if img.endswith('jpg') and img not in skip_img:\n",
    "            cap =  \"<start> \" + cap.strip() + \" <end>\"\n",
    "            text_data.append(cap)\n",
    "        if img in cap_map:\n",
    "            cap_map[img].append(cap)\n",
    "        else:\n",
    "            cap_map[img] = [cap]\n",
    "            \n",
    "    for img in skip_img:\n",
    "        if img in cap_map:\n",
    "            del cap_map[img]\n",
    "    return cap_map, text_data"
   ]
  },
  {
   "cell_type": "code",
   "execution_count": 28,
   "id": "b3204275",
   "metadata": {},
   "outputs": [],
   "source": [
    "def split_train_val(cap,train_size=0.8, shuffle = True):\n",
    "    all_img = list(cap.keys())\n",
    "    if shuffle:\n",
    "        np.random.shuffle(all_img)\n",
    "        \n",
    "    train_size = int(len(cap) * train_size)\n",
    "    training_data = {img: cap[img] for img in all_img[:train_size]}\n",
    "    validation_data = {img: cap[img] for img in all_img[train_size:]}\n",
    "    \n",
    "    return training_data, validation_data"
   ]
  },
  {
   "cell_type": "code",
   "execution_count": 24,
   "id": "9f0777f0",
   "metadata": {},
   "outputs": [],
   "source": [
    "cap_map, text_data = load_data(\"Flickr8k_text/Flickr8k.token.txt\")"
   ]
  },
  {
   "cell_type": "code",
   "execution_count": 29,
   "id": "fec799c2",
   "metadata": {},
   "outputs": [
    {
     "name": "stdout",
     "output_type": "stream",
     "text": [
      "Number of training samples:  6115\n",
      "Number of validation samples:  1529\n"
     ]
    }
   ],
   "source": [
    "train_data, valid_data = split_train_val(cap_map)\n",
    "print(\"Number of training samples: \", len(train_data))\n",
    "print(\"Number of validation samples: \", len(valid_data))"
   ]
  },
  {
   "cell_type": "markdown",
   "id": "eefac879",
   "metadata": {},
   "source": [
    "### Vectorizing the text Data"
   ]
  },
  {
   "cell_type": "code",
   "execution_count": 34,
   "id": "b0799068",
   "metadata": {},
   "outputs": [],
   "source": [
    "def standardization(input_string):\n",
    "    lowercase = tf.strings.lower(input_string)\n",
    "    return tf.strings.regex_replace(lowercase, \"[%s]\" % re.escape(strip_chars), \"\")"
   ]
  },
  {
   "cell_type": "code",
   "execution_count": 35,
   "id": "fb01f99a",
   "metadata": {},
   "outputs": [],
   "source": [
    "strip_chars = \"!\\\"#$%&'()*+,-./:;<=>?@[\\]^_`{|}~\"\n",
    "strip_chars = strip_chars.replace(\"<\", \"\")\n",
    "strip_chars = strip_chars.replace(\">\", \"\")\n",
    "\n",
    "vectorization = TextVectorization(\n",
    "    max_tokens=10000,\n",
    "    output_mode=\"int\",\n",
    "    output_sequence_length=25,\n",
    "    standardize=standardization,\n",
    ")\n",
    "vectorization.adapt(text_data)\n",
    "\n",
    "# Data augmentation for image data\n",
    "image_augmentation = keras.Sequential(\n",
    "    [\n",
    "        layers.RandomFlip(\"horizontal\"),\n",
    "        layers.RandomRotation(0.2),\n",
    "        layers.RandomContrast(0.3),\n",
    "    ]\n",
    ")"
   ]
  },
  {
   "cell_type": "code",
   "execution_count": 36,
   "id": "0abf8443",
   "metadata": {},
   "outputs": [],
   "source": [
    "def decode_and_resize(img_path):\n",
    "    img = tf.io.read_file(img_path)\n",
    "    img = tf.image.decode_jpeg(img, channels=3)\n",
    "    img = tf.image.resize(img, (299,299))\n",
    "    img = tf.image.convert_image_dtype(img, tf.float32)\n",
    "    return img"
   ]
  },
  {
   "cell_type": "code",
   "execution_count": 37,
   "id": "4eda25a7",
   "metadata": {},
   "outputs": [],
   "source": [
    "def process_input(img_path, captions):\n",
    "    return decode_and_resize(img_path), vectorization(captions)"
   ]
  },
  {
   "cell_type": "code",
   "execution_count": 46,
   "id": "f549d010",
   "metadata": {},
   "outputs": [],
   "source": [
    "def make_dataset(images, captions):\n",
    "    dataset = tf.data.Dataset.from_tensor_slices((images, captions))\n",
    "    dataset = dataset.shuffle(len(images))\n",
    "    dataset = dataset.map(process_input, num_parallel_calls=tf.data.AUTOTUNE)\n",
    "    dataset = dataset.batch(64).prefetch(tf.data.AUTOTUNE)\n",
    "\n",
    "    return dataset"
   ]
  },
  {
   "cell_type": "code",
   "execution_count": 47,
   "id": "4baadb84",
   "metadata": {},
   "outputs": [],
   "source": [
    "train_dataset = make_dataset(list(train_data.keys()), list(train_data.values()))\n",
    "\n",
    "valid_dataset = make_dataset(list(valid_data.keys()), list(valid_data.values()))"
   ]
  },
  {
   "cell_type": "code",
   "execution_count": null,
   "id": "573c694b",
   "metadata": {},
   "outputs": [],
   "source": []
  },
  {
   "cell_type": "code",
   "execution_count": null,
   "id": "8db922d4",
   "metadata": {},
   "outputs": [],
   "source": []
  }
 ],
 "metadata": {
  "kernelspec": {
   "display_name": "imgcap",
   "language": "python",
   "name": "imgcap"
  },
  "language_info": {
   "codemirror_mode": {
    "name": "ipython",
    "version": 3
   },
   "file_extension": ".py",
   "mimetype": "text/x-python",
   "name": "python",
   "nbconvert_exporter": "python",
   "pygments_lexer": "ipython3",
   "version": "3.9.2"
  }
 },
 "nbformat": 4,
 "nbformat_minor": 5
}
